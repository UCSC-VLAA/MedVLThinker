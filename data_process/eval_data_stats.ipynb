{
 "cells": [
  {
   "cell_type": "code",
   "execution_count": 1,
   "id": "c745d051",
   "metadata": {},
   "outputs": [
    {
     "name": "stdout",
     "output_type": "stream",
     "text": [
      "/data1/xhuan192/codes/med-vlrm\n"
     ]
    },
    {
     "data": {
      "text/plain": [
       "True"
      ]
     },
     "execution_count": 1,
     "metadata": {},
     "output_type": "execute_result"
    }
   ],
   "source": [
    "import os\n",
    "os.chdir(\"../\")\n",
    "print(os.getcwd())\n",
    "import dotenv\n",
    "dotenv.load_dotenv(override=True)"
   ]
  },
  {
   "cell_type": "code",
   "execution_count": 2,
   "id": "8c725bab",
   "metadata": {},
   "outputs": [
    {
     "name": "stderr",
     "output_type": "stream",
     "text": [
      "/data1/xhuan192/misc/miniconda3/envs/m1/lib/python3.10/site-packages/tqdm/auto.py:21: TqdmWarning: IProgress not found. Please update jupyter and ipywidgets. See https://ipywidgets.readthedocs.io/en/stable/user_install.html\n",
      "  from .autonotebook import tqdm as notebook_tqdm\n"
     ]
    }
   ],
   "source": [
    "import datasets\n",
    "from collections import Counter"
   ]
  },
  {
   "cell_type": "code",
   "execution_count": 3,
   "id": "27a76e75",
   "metadata": {},
   "outputs": [],
   "source": [
    "# https://huggingface.co/datasets/FreedomIntelligence/Medical_Multimodal_Evaluation_Data\n",
    "path='FreedomIntelligence/Medical_Multimodal_Evaluation_Data'\n",
    "split = 'test'\n",
    "\n",
    "dataset = datasets.load_dataset(path, split=split)\n"
   ]
  },
  {
   "cell_type": "code",
   "execution_count": 4,
   "id": "5cecda1f",
   "metadata": {},
   "outputs": [
    {
     "data": {
      "text/plain": [
       "Counter({'OmniMedVQA': 11124,\n",
       "         'PathVQA_test': 3362,\n",
       "         'PMC-VQA_test': 2000,\n",
       "         'SLAKE_test': 416,\n",
       "         'VQA-RAD_test': 251,\n",
       "         'MMMU_Medical_Validation': 150})"
      ]
     },
     "execution_count": 4,
     "metadata": {},
     "output_type": "execute_result"
    }
   ],
   "source": [
    "dataset_list = dataset[\"dataset\"]\n",
    "dataset_count = Counter(dataset_list)\n",
    "dataset_count\n"
   ]
  },
  {
   "cell_type": "code",
   "execution_count": 6,
   "id": "cd8a7e7b",
   "metadata": {},
   "outputs": [
    {
     "name": "stdout",
     "output_type": "stream",
     "text": [
      "PMC-VQA dataset size: 2000\n",
      "PathVQA dataset size: 6719\n",
      "SLAKE dataset size: 1061\n",
      "VQA_RAD dataset size: 451\n",
      "\n",
      "PMC-VQA dataset size: 2000\n",
      "PathVQA dataset size: 3362\n",
      "SLAKE dataset size: 416\n",
      "VQA_RAD dataset size: 272\n"
     ]
    }
   ],
   "source": [
    "# https://huggingface.co/datasets/AdaptLLM/biomed-VQA-benchmark\n",
    "path='AdaptLLM/biomed-VQA-benchmark'\n",
    "name_list = [\"PMC-VQA\", \"PathVQA\", \"SLAKE\", \"VQA_RAD\"]\n",
    "split = 'test'\n",
    "\n",
    "for name in name_list:\n",
    "    dataset = datasets.load_dataset(path, name=name, split=split)\n",
    "    print(f\"{name} dataset size: {len(dataset)}\")\n",
    "\n",
    "print(\"\")\n",
    "for name in name_list:\n",
    "    dataset = datasets.load_dataset(path, name=name, split=split)\n",
    "    if \"answer_type\" in dataset.features:\n",
    "        dataset = dataset.filter(lambda x: x[\"answer_type\"] == \"CLOSED\")\n",
    "    print(f\"{name} dataset size: {len(dataset)}\")"
   ]
  },
  {
   "cell_type": "markdown",
   "id": "09e5c14e",
   "metadata": {},
   "source": [
    "Use `AdaptLLM/biomed-VQA-benchmark`.\n",
    "\n",
    "`FreedomIntelligence/Medical_Multimodal_Evaluation_Data` got some problem in vqa_rad data. See Issue in dataset page.\n",
    "\n",
    "Add MMMU, MMMU-Pro, MedXpertQA MM, Humanities Last Exam, and more.\n",
    "\n",
    "Also add Textual QA datasets."
   ]
  }
 ],
 "metadata": {
  "kernelspec": {
   "display_name": "m1",
   "language": "python",
   "name": "python3"
  },
  "language_info": {
   "codemirror_mode": {
    "name": "ipython",
    "version": 3
   },
   "file_extension": ".py",
   "mimetype": "text/x-python",
   "name": "python",
   "nbconvert_exporter": "python",
   "pygments_lexer": "ipython3",
   "version": "3.10.16"
  }
 },
 "nbformat": 4,
 "nbformat_minor": 5
}
